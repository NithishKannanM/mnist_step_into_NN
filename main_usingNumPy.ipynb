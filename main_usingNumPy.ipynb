{
 "cells": [
  {
   "cell_type": "code",
   "execution_count": 52,
   "id": "963ccf34",
   "metadata": {},
   "outputs": [],
   "source": [
    "import pandas as pd\n",
    "import numpy as np\n",
    "import matplotlib.pyplot as plt\n",
    "import tensorflow as tf\n",
    "from sklearn.model_selection import train_test_split"
   ]
  },
  {
   "cell_type": "code",
   "execution_count": 53,
   "id": "af41dea0",
   "metadata": {},
   "outputs": [],
   "source": [
    "# Load and preprocess data\n",
    "df = pd.read_csv('mnist_train.csv')\n",
    "df1 = pd.read_csv('mnist_test.csv')"
   ]
  },
  {
   "cell_type": "code",
   "execution_count": 54,
   "id": "e79e8bd3",
   "metadata": {},
   "outputs": [
    {
     "data": {
      "text/plain": [
       "(59999, 785)"
      ]
     },
     "execution_count": 54,
     "metadata": {},
     "output_type": "execute_result"
    }
   ],
   "source": [
    "df.shape\n"
   ]
  },
  {
   "cell_type": "code",
   "execution_count": 55,
   "id": "e83b9192",
   "metadata": {},
   "outputs": [
    {
     "data": {
      "text/plain": [
       "(9999, 785)"
      ]
     },
     "execution_count": 55,
     "metadata": {},
     "output_type": "execute_result"
    }
   ],
   "source": [
    "df1.shape"
   ]
  },
  {
   "cell_type": "code",
   "execution_count": 56,
   "id": "a3ab4458",
   "metadata": {},
   "outputs": [
    {
     "name": "stdout",
     "output_type": "stream",
     "text": [
      "<class 'pandas.core.frame.DataFrame'>\n",
      "RangeIndex: 59999 entries, 0 to 59998\n",
      "Columns: 785 entries, 5 to 0.617\n",
      "dtypes: int64(785)\n",
      "memory usage: 359.3 MB\n"
     ]
    }
   ],
   "source": [
    "df.info()"
   ]
  },
  {
   "cell_type": "code",
   "execution_count": 57,
   "id": "9396e1f4",
   "metadata": {},
   "outputs": [
    {
     "name": "stdout",
     "output_type": "stream",
     "text": [
      "<class 'pandas.core.frame.DataFrame'>\n",
      "RangeIndex: 9999 entries, 0 to 9998\n",
      "Columns: 785 entries, 7 to 0.667\n",
      "dtypes: int64(785)\n",
      "memory usage: 59.9 MB\n"
     ]
    }
   ],
   "source": [
    "df1.info()"
   ]
  },
  {
   "cell_type": "code",
   "execution_count": 58,
   "id": "09e17968",
   "metadata": {},
   "outputs": [],
   "source": [
    "# Convert to numpy arrays\n",
    "data = np.array(df)\n",
    "data1 = np.array(df1)"
   ]
  },
  {
   "cell_type": "code",
   "execution_count": 59,
   "id": "9311c453",
   "metadata": {},
   "outputs": [],
   "source": [
    "# Get shapes\n",
    "m, n = data.shape\n",
    "m1, n1 = data1.shape"
   ]
  },
  {
   "cell_type": "code",
   "execution_count": 60,
   "id": "848e44ca",
   "metadata": {},
   "outputs": [],
   "source": [
    "# Shuffle data\n",
    "np.random.shuffle(data)\n",
    "np.random.shuffle(data1)"
   ]
  },
  {
   "cell_type": "code",
   "execution_count": 61,
   "id": "cf4a9f47",
   "metadata": {},
   "outputs": [],
   "source": [
    "# Split features and labels correctly\n",
    "# For training data\n",
    "X_train = data[:, 1:].T  # Features (784 pixels)\n",
    "y_train = data[:, 0]     # Labels (digit classes)"
   ]
  },
  {
   "cell_type": "code",
   "execution_count": null,
   "id": "46de29a6",
   "metadata": {},
   "outputs": [
    {
     "name": "stdout",
     "output_type": "stream",
     "text": [
      "Training data shape: X_train (784, 59999), y_train (59999,)\n",
      "Test data shape: X_dev (784, 9999), y_dev (9999,)\n"
     ]
    }
   ],
   "source": [
    "# For test/dev data\n",
    "X_dev = data1[:, 1:].T   # Features (784 pixels)\n",
    "y_dev = data1[:, 0]      # Labels (digit classes)\n",
    "\n",
    "# Normalize inputs\n",
    "X_train = X_train / 255.0\n",
    "X_dev = X_dev / 255.0\n",
    "\n",
    "print(f\"Training data shape: X_train {X_train.shape}, y_train {y_train.shape}\")\n",
    "print(f\"Test data shape: X_dev {X_dev.shape}, y_dev {y_dev.shape}\")"
   ]
  },
  {
   "cell_type": "code",
   "execution_count": 63,
   "id": "65053175",
   "metadata": {},
   "outputs": [],
   "source": [
    "# 1. Initialize Parameters\n",
    "def init_parameters():\n",
    "    W1 = np.random.randn(64, 784) * 0.01\n",
    "    b1 = np.zeros((64, 1))\n",
    "    W2 = np.random.randn(10, 64) * 0.01\n",
    "    b2 = np.zeros((10, 1))\n",
    "    return W1, b1, W2, b2\n",
    "\n",
    "# 2. Activation Functions\n",
    "def ReLU(Z):\n",
    "    return np.maximum(0, Z)\n",
    "\n",
    "def softmax(Z):\n",
    "    exp_Z = np.exp(Z - np.max(Z, axis=0, keepdims=True))  # Numerical stability\n",
    "    return exp_Z / np.sum(exp_Z, axis=0, keepdims=True)\n",
    "\n",
    "# 3. Forward Propagation\n",
    "def forward_propagation(X, W1, b1, W2, b2):\n",
    "    Z1 = np.dot(W1, X) + b1\n",
    "    A1 = ReLU(Z1)\n",
    "    Z2 = np.dot(W2, A1) + b2\n",
    "    A2 = softmax(Z2)\n",
    "    return A2, Z1, A1, Z2\n",
    "\n",
    "# 4. One-Hot Encoding\n",
    "def one_hot(y):\n",
    "    one_hot_y = np.zeros((y.size, y.max() + 1))\n",
    "    one_hot_y[np.arange(y.size), y] = 1\n",
    "    return one_hot_y.T\n",
    "\n",
    "# 5. Derivative of ReLU\n",
    "def derive_ReLU(Z):\n",
    "    return (Z > 0).astype(float)\n",
    "\n",
    "# 6. Backward Propagation\n",
    "def backward_propagation(y, Z1, Z2, A1, A2, W2, X):\n",
    "    one_hot_y = one_hot(y)\n",
    "    m = y.size\n",
    "    \n",
    "    dz2 = A2 - one_hot_y\n",
    "    dW2 = np.dot(dz2, A1.T) / m\n",
    "    db2 = np.sum(dz2, axis=1, keepdims=True) / m\n",
    "    \n",
    "    dz1 = np.dot(W2.T, dz2) * derive_ReLU(Z1)\n",
    "    dW1 = np.dot(dz1, X.T) / m\n",
    "    db1 = np.sum(dz1, axis=1, keepdims=True) / m\n",
    "    \n",
    "    return dW1, db1, dW2, db2\n",
    "\n",
    "# 7. Update Parameters\n",
    "def update_parameters(W1, b1, W2, b2, dW1, db1, dW2, db2, learning_rate):\n",
    "    W1 -= learning_rate * dW1\n",
    "    b1 -= learning_rate * db1\n",
    "    W2 -= learning_rate * dW2\n",
    "    b2 -= learning_rate * db2\n",
    "    return W1, b1, W2, b2\n",
    "\n",
    "# 8. Cost function\n",
    "def compute_cost(A2, y):\n",
    "    m = y.size\n",
    "    one_hot_y = one_hot(y)\n",
    "    # Cross-entropy loss\n",
    "    cost = -np.sum(one_hot_y * np.log(A2 + 1e-8)) / m\n",
    "    return cost\n",
    "\n",
    "# 9. Prediction function\n",
    "def predict(X, W1, b1, W2, b2):\n",
    "    A2, _, _, _ = forward_propagation(X, W1, b1, W2, b2)\n",
    "    return np.argmax(A2, axis=0)\n",
    "\n",
    "# 10. Gradient Descent (Training Loop)\n",
    "def gradient_descent(X, y, W1, b1, W2, b2, learning_rate, epochs):\n",
    "    costs = []\n",
    "    \n",
    "    for epoch in range(epochs):\n",
    "        # Forward propagation\n",
    "        A2, Z1, A1, Z2 = forward_propagation(X, W1, b1, W2, b2)\n",
    "        \n",
    "        # Compute cost\n",
    "        cost = compute_cost(A2, y)\n",
    "        costs.append(cost)\n",
    "        \n",
    "        # Backward propagation\n",
    "        dW1, db1, dW2, db2 = backward_propagation(y, Z1, Z2, A1, A2, W2, X)\n",
    "        \n",
    "        # Update parameters\n",
    "        W1, b1, W2, b2 = update_parameters(W1, b1, W2, b2, dW1, db1, dW2, db2, learning_rate)\n",
    "        \n",
    "        # Print progress\n",
    "        if epoch % 100 == 0:\n",
    "            predictions = predict(X, W1, b1, W2, b2)\n",
    "            accuracy = np.mean(predictions == y)\n",
    "            print(f'Epoch {epoch}, Cost: {cost:.4f}, Accuracy: {accuracy:.4f}')\n",
    "    \n",
    "    return W1, b1, W2, b2, costs"
   ]
  },
  {
   "cell_type": "code",
   "execution_count": 64,
   "id": "2719d3ce",
   "metadata": {},
   "outputs": [],
   "source": [
    "# 11. Training and Evaluation\n",
    "def train_and_evaluate():\n",
    "    # Initialize parameters\n",
    "    W1, b1, W2, b2 = init_parameters()\n",
    "    \n",
    "    # Train the model\n",
    "    print(\"Training the model...\")\n",
    "    W1, b1, W2, b2, costs = gradient_descent(X_train, y_train, W1, b1, W2, b2, \n",
    "                                           learning_rate=0.1, epochs=1000)\n",
    "    \n",
    "    # Evaluate on training data\n",
    "    train_predictions = predict(X_train, W1, b1, W2, b2)\n",
    "    train_accuracy = np.mean(train_predictions == y_train)\n",
    "    print(f\"Training Accuracy: {train_accuracy:.4f}\")\n",
    "    \n",
    "    # Evaluate on test data\n",
    "    test_predictions = predict(X_dev, W1, b1, W2, b2)\n",
    "    test_accuracy = np.mean(test_predictions == y_dev)\n",
    "    print(f\"Test Accuracy: {test_accuracy:.4f}\")\n",
    "    \n",
    "    # Plot cost function\n",
    "    plt.figure(figsize=(10, 6))\n",
    "    plt.plot(costs)\n",
    "    plt.title('Cost Function Over Time')\n",
    "    plt.xlabel('Epochs')\n",
    "    plt.ylabel('Cost')\n",
    "    plt.grid(True)\n",
    "    plt.show()\n",
    "    \n",
    "    return W1, b1, W2, b2\n"
   ]
  },
  {
   "cell_type": "code",
   "execution_count": 66,
   "id": "b33e63c0",
   "metadata": {},
   "outputs": [],
   "source": [
    "def show_random_prediction(X_dev, y_dev, W1, b1, W2, b2):\n",
    "    import random\n",
    "    index = random.randint(0, X_dev.shape[1] - 1)\n",
    "    image = X_dev[:, index].reshape(28, 28)  # reshape flat image to 28x28\n",
    "    label = y_dev[index]\n",
    "    \n",
    "    # Predict\n",
    "    prediction = predict(X_dev[:, index].reshape(-1, 1), W1, b1, W2, b2)[0]\n",
    "\n",
    "    # Plot\n",
    "    plt.figure(figsize=(4, 4))\n",
    "    plt.imshow(image, cmap='gray')\n",
    "    plt.title(f\"Predicted: {prediction}, Actual: {label}\")\n",
    "    plt.axis('off')\n",
    "    plt.show()\n"
   ]
  },
  {
   "cell_type": "code",
   "execution_count": 67,
   "id": "6f7febc1",
   "metadata": {},
   "outputs": [
    {
     "name": "stdout",
     "output_type": "stream",
     "text": [
      "Training the model...\n",
      "Epoch 0, Cost: 2.3028, Accuracy: 0.1020\n",
      "Epoch 100, Cost: 1.1098, Accuracy: 0.7312\n",
      "Epoch 200, Cost: 0.5496, Accuracy: 0.8579\n",
      "Epoch 300, Cost: 0.4262, Accuracy: 0.8853\n",
      "Epoch 400, Cost: 0.3757, Accuracy: 0.8964\n",
      "Epoch 500, Cost: 0.3475, Accuracy: 0.9027\n",
      "Epoch 600, Cost: 0.3284, Accuracy: 0.9077\n",
      "Epoch 700, Cost: 0.3142, Accuracy: 0.9111\n",
      "Epoch 800, Cost: 0.3027, Accuracy: 0.9139\n",
      "Epoch 900, Cost: 0.2928, Accuracy: 0.9166\n",
      "Training Accuracy: 0.9194\n",
      "Test Accuracy: 0.9216\n"
     ]
    },
    {
     "data": {
      "image/png": "[encoded data removed]",
      "text/plain": [
       "<Figure size 1000x600 with 1 Axes>"
      ]
     },
     "metadata": {},
     "output_type": "display_data"
    },
    {
     "data": {
      "image/png": "[encoded data removed]",
      "text/plain": [
       "<Figure size 400x400 with 1 Axes>"
      ]
     },
     "metadata": {},
     "output_type": "display_data"
    }
   ],
   "source": [
    "# Run the training\n",
    "if __name__ == \"__main__\":\n",
    "    W1, b1, W2, b2 = train_and_evaluate()\n",
    "    # Show random test prediction\n",
    "    show_random_prediction(X_dev, y_dev, W1, b1, W2, b2)\n"
   ]
  },
  {
   "cell_type": "code",
   "execution_count": null,
   "id": "f6539e9e",
   "metadata": {},
   "outputs": [],
   "source": []
  }
 ],
 "metadata": {
  "kernelspec": {
   "display_name": "venv",
   "language": "python",
   "name": "python3"
  },
  "language_info": {
   "codemirror_mode": {
    "name": "ipython",
    "version": 3
   },
   "file_extension": ".py",
   "mimetype": "text/x-python",
   "name": "python",
   "nbconvert_exporter": "python",
   "pygments_lexer": "ipython3",
   "version": "3.12.6"
  }
 },
 "nbformat": 4,
 "nbformat_minor": 5
}
